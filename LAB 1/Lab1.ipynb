{
  "nbformat": 4,
  "nbformat_minor": 0,
  "metadata": {
    "colab": {
      "provenance": [],
      "mount_file_id": "1buj0q-18Tz2if9H_94exC5legTHFcVnR",
      "authorship_tag": "ABX9TyOZSlfMKb+19YCAwDP1xgJq",
      "include_colab_link": true
    },
    "kernelspec": {
      "name": "python3",
      "display_name": "Python 3"
    },
    "language_info": {
      "name": "python"
    }
  },
  "cells": [
    {
      "cell_type": "markdown",
      "metadata": {
        "id": "view-in-github",
        "colab_type": "text"
      },
      "source": [
        "<a href=\"https://colab.research.google.com/github/shivamsingh163248/Data_Mining_and_Warehousing_CSBM505_M.Tech_NIT-D/blob/main/LAB%201/Lab1.ipynb\" target=\"_parent\"><img src=\"https://colab.research.google.com/assets/colab-badge.svg\" alt=\"Open In Colab\"/></a>"
      ]
    },
    {
      "cell_type": "code",
      "execution_count": 5,
      "metadata": {
        "id": "Wm4eAdKajpIr",
        "colab": {
          "base_uri": "https://localhost:8080/"
        },
        "outputId": "2b13739e-13a3-46ef-cbb8-0145439a07a9"
      },
      "outputs": [
        {
          "output_type": "stream",
          "name": "stdout",
          "text": [
            "     PassengerId  Survived  Pclass  \\\n",
            "0              1         0       3   \n",
            "1              2         1       1   \n",
            "2              3         1       3   \n",
            "3              4         1       1   \n",
            "4              5         0       3   \n",
            "..           ...       ...     ...   \n",
            "886          887         0       2   \n",
            "887          888         1       1   \n",
            "888          889         0       3   \n",
            "889          890         1       1   \n",
            "890          891         0       3   \n",
            "\n",
            "                                                  Name     Sex   Age  SibSp  \\\n",
            "0                              Braund, Mr. Owen Harris    male  22.0      1   \n",
            "1    Cumings, Mrs. John Bradley (Florence Briggs Th...  female  38.0      1   \n",
            "2                               Heikkinen, Miss. Laina  female  26.0      0   \n",
            "3         Futrelle, Mrs. Jacques Heath (Lily May Peel)  female  35.0      1   \n",
            "4                             Allen, Mr. William Henry    male  35.0      0   \n",
            "..                                                 ...     ...   ...    ...   \n",
            "886                              Montvila, Rev. Juozas    male  27.0      0   \n",
            "887                       Graham, Miss. Margaret Edith  female  19.0      0   \n",
            "888           Johnston, Miss. Catherine Helen \"Carrie\"  female   NaN      1   \n",
            "889                              Behr, Mr. Karl Howell    male  26.0      0   \n",
            "890                                Dooley, Mr. Patrick    male  32.0      0   \n",
            "\n",
            "     Parch            Ticket     Fare Cabin Embarked  \n",
            "0        0         A/5 21171   7.2500   NaN        S  \n",
            "1        0          PC 17599  71.2833   C85        C  \n",
            "2        0  STON/O2. 3101282   7.9250   NaN        S  \n",
            "3        0            113803  53.1000  C123        S  \n",
            "4        0            373450   8.0500   NaN        S  \n",
            "..     ...               ...      ...   ...      ...  \n",
            "886      0            211536  13.0000   NaN        S  \n",
            "887      0            112053  30.0000   B42        S  \n",
            "888      2        W./C. 6607  23.4500   NaN        S  \n",
            "889      0            111369  30.0000  C148        C  \n",
            "890      0            370376   7.7500   NaN        Q  \n",
            "\n",
            "[891 rows x 12 columns]\n"
          ]
        }
      ],
      "source": [
        "#LAB 1 : Aim: To calculate and analyze the mean, median, mode, standard deviation, and quartiles (Q1, Q2, Q3) of a given dataset, and to visually represent the data distribution using a box plot\n",
        "import numpy as np ;\n",
        "import pandas as pd ;\n",
        "import matplotlib.pyplot as mat ;\n",
        "# reading the titani file\n",
        "\n",
        "titenic = pd.read_csv('titanic.csv') ;\n",
        "print(titenic) ;\n",
        "\n"
      ]
    },
    {
      "cell_type": "code",
      "source": [
        "#find the mean of the age using pandas\n",
        "mean = titenic['Age'].mean() ;\n",
        "print(mean) ;"
      ],
      "metadata": {
        "colab": {
          "base_uri": "https://localhost:8080/"
        },
        "id": "e9byJH4pH0T2",
        "outputId": "185026c7-3cb7-412a-9a22-d920e8573ce8"
      },
      "execution_count": 6,
      "outputs": [
        {
          "output_type": "stream",
          "name": "stdout",
          "text": [
            "29.69911764705882\n"
          ]
        }
      ]
    },
    {
      "cell_type": "code",
      "source": [
        "#find the median of the age\n",
        "median = titenic['Age'].median() ;\n",
        "print(median) ;"
      ],
      "metadata": {
        "colab": {
          "base_uri": "https://localhost:8080/"
        },
        "id": "L0N0whO8J4zv",
        "outputId": "5946d559-4f32-4a94-faa7-65658c9ba010"
      },
      "execution_count": 11,
      "outputs": [
        {
          "output_type": "stream",
          "name": "stdout",
          "text": [
            "28.0\n"
          ]
        }
      ]
    },
    {
      "cell_type": "code",
      "source": [
        "#find the mode of the age\n",
        "mode = titenic['Age'].mode()[0] ;\n",
        "print(mode) ;"
      ],
      "metadata": {
        "colab": {
          "base_uri": "https://localhost:8080/"
        },
        "id": "jY8qH7JTKFDb",
        "outputId": "00fa9349-1b98-4269-b47d-c9088befc5b1"
      },
      "execution_count": 12,
      "outputs": [
        {
          "output_type": "stream",
          "name": "stdout",
          "text": [
            "24.0\n"
          ]
        }
      ]
    },
    {
      "cell_type": "code",
      "source": [
        "#find the minum age of the infilter data freme using the pandas\n",
        "mimnumage = titenic['Age'].min();\n",
        "print(mimnumage) ;"
      ],
      "metadata": {
        "colab": {
          "base_uri": "https://localhost:8080/"
        },
        "id": "qS5euVyjKOTf",
        "outputId": "2bd0c2ab-4436-412f-fd8e-f39cfea8fa43"
      },
      "execution_count": 10,
      "outputs": [
        {
          "output_type": "stream",
          "name": "stdout",
          "text": [
            "0.42\n"
          ]
        }
      ]
    },
    {
      "cell_type": "code",
      "source": [
        "#find the stander deviation using the pandas\n",
        "standerd = titenic['Age'].std() ;\n",
        "print(\"standerd deviation \" , standerd) ;"
      ],
      "metadata": {
        "colab": {
          "base_uri": "https://localhost:8080/"
        },
        "id": "MeMjb3uTKwAf",
        "outputId": "80b3c6aa-22c2-419c-a276-9efdf2b0b2df"
      },
      "execution_count": 13,
      "outputs": [
        {
          "output_type": "stream",
          "name": "stdout",
          "text": [
            "standerd deviation  14.526497332334042\n"
          ]
        }
      ]
    },
    {
      "cell_type": "code",
      "source": [
        "#find the variace using the standerd deviation\n",
        "varience = np.sqrt(standerd) ;\n",
        "print('varience ' , varience) ;"
      ],
      "metadata": {
        "colab": {
          "base_uri": "https://localhost:8080/"
        },
        "id": "fdyNx1jKMS0H",
        "outputId": "337eae5f-75b0-4e44-c9d6-46562316dd37"
      },
      "execution_count": 14,
      "outputs": [
        {
          "output_type": "stream",
          "name": "stdout",
          "text": [
            "varience  3.8113642350651875\n"
          ]
        }
      ]
    },
    {
      "cell_type": "code",
      "source": [
        "#find the q1 and q2 and q3 quertial\n",
        "Q1 = titenic['Age'].quantile(0.25) ;\n",
        "Q2 = titenic['Age'].quantile(0.50) ;\n",
        "Q3 = titenic['Age'].quantile(0.75) ;\n",
        "\n",
        "print(\"Q1\" , Q1) ;\n",
        "print(\"Q2\" , Q2) ;\n",
        "print('Q3' , Q3) ;"
      ],
      "metadata": {
        "colab": {
          "base_uri": "https://localhost:8080/"
        },
        "id": "CMlOwJHtM-z_",
        "outputId": "e18b74ee-3f39-474d-9115-48e26075b7f6"
      },
      "execution_count": 15,
      "outputs": [
        {
          "output_type": "stream",
          "name": "stdout",
          "text": [
            "Q1 20.125\n",
            "Q2 28.0\n",
            "Q3 38.0\n"
          ]
        }
      ]
    },
    {
      "cell_type": "code",
      "source": [
        "iqr = Q3 - Q1 ;\n",
        "print(iqr) ;\n"
      ],
      "metadata": {
        "colab": {
          "base_uri": "https://localhost:8080/"
        },
        "id": "ewK3KhSIQC2_",
        "outputId": "49928065-d099-452d-9ac8-4ff044a2f9d9"
      },
      "execution_count": 18,
      "outputs": [
        {
          "output_type": "stream",
          "name": "stdout",
          "text": [
            "17.875\n"
          ]
        }
      ]
    },
    {
      "cell_type": "code",
      "source": [
        "#Now finding the upper bound\n",
        "lowerBound = Q1 - 1.5 * iqr ;\n",
        "upperbound = Q3 - 1.5 * iqr ;\n",
        "\n",
        "print(lowerBound) ;\n",
        "print(upperbound) ;"
      ],
      "metadata": {
        "colab": {
          "base_uri": "https://localhost:8080/"
        },
        "id": "CezzJp94UALZ",
        "outputId": "9d1d57b8-19eb-4e93-9d2c-97f56de88f4c"
      },
      "execution_count": 20,
      "outputs": [
        {
          "output_type": "stream",
          "name": "stdout",
          "text": [
            "-6.6875\n",
            "11.1875\n"
          ]
        }
      ]
    },
    {
      "cell_type": "code",
      "source": [
        "#Creating a box plot\n",
        "#mat is box plot\n",
        "data = titenic['Age'].dropna() ;\n",
        "mat.figure(figsize=(8,6)) ;\n",
        "mat.boxplot(data , showmeans=True) ;\n",
        "mat.title(\"Age box plot \") ;\n",
        "mat.ylabel('Age') ;\n",
        "mat.xticks([1] , ['Age']) ;\n",
        "mat.grid(axis='y' , linestyle = '--' , alpha = 0.6 ) ;\n",
        "outliers = data[(data < lowerBound) | (data > upperbound)] ;\n",
        "#mat.plot(1 ,  , 'ro' , label = 'Outliers') ;\n",
        "mat.legend()\n",
        "mat.show()"
      ],
      "metadata": {
        "colab": {
          "base_uri": "https://localhost:8080/",
          "height": 582
        },
        "id": "GETZLQlEUrrg",
        "outputId": "44189ecb-0d13-4fe0-e5d1-41df57ed84e5"
      },
      "execution_count": 30,
      "outputs": [
        {
          "output_type": "stream",
          "name": "stderr",
          "text": [
            "WARNING:matplotlib.legend:No artists with labels found to put in legend.  Note that artists whose label start with an underscore are ignored when legend() is called with no argument.\n"
          ]
        },
        {
          "output_type": "display_data",
          "data": {
            "text/plain": [
              "<Figure size 800x600 with 1 Axes>"
            ],
            "image/png": "[encoded data removed]"
          },
          "metadata": {}
        }
      ]
    },
    {
      "cell_type": "code",
      "source": [
        "#Creating a box plot\n",
        "#mat is box plot\n",
        "data = titenic['Age'].dropna() ;\n",
        "mat.figure(figsize=(8,6)) ;\n",
        "mat.boxplot(data , showmeans=True) ;\n",
        "mat.title(\"Age box plot \") ;\n",
        "mat.ylabel('Age') ;\n",
        "mat.xticks([1] , ['Age']) ;\n",
        "mat.grid(axis='y' , linestyle = '--' , alpha = 0.6 ) ;\n",
        "outliers = data[(data < lowerBound) | (data > upperbound)] ;\n",
        "#mat.plot(1 , outliers) ;\n",
        "mat.legend()\n",
        "mat.show()"
      ],
      "metadata": {
        "colab": {
          "base_uri": "https://localhost:8080/",
          "height": 582
        },
        "outputId": "413bb17c-24ba-4c5a-b452-fa96856be8e9",
        "id": "F3La3qwtZhY_"
      },
      "execution_count": 29,
      "outputs": [
        {
          "output_type": "stream",
          "name": "stderr",
          "text": [
            "WARNING:matplotlib.legend:No artists with labels found to put in legend.  Note that artists whose label start with an underscore are ignored when legend() is called with no argument.\n"
          ]
        },
        {
          "output_type": "display_data",
          "data": {
            "text/plain": [
              "<Figure size 800x600 with 1 Axes>"
            ],
            "image/png": "[encoded data removed]"
          },
          "metadata": {}
        }
      ]
    },
    {
      "cell_type": "code",
      "source": [],
      "metadata": {
        "id": "5O67mL0lYoAI"
      },
      "execution_count": null,
      "outputs": []
    }
  ]
}