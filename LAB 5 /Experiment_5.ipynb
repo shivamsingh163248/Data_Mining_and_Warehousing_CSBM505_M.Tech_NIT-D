{
  "nbformat": 4,
  "nbformat_minor": 0,
  "metadata": {
    "colab": {
      "provenance": [],
      "authorship_tag": "ABX9TyPriNk+LDJJkHKr8Nacc0Cb",
      "include_colab_link": true
    },
    "kernelspec": {
      "name": "python3",
      "display_name": "Python 3"
    },
    "language_info": {
      "name": "python"
    }
  },
  "cells": [
    {
      "cell_type": "markdown",
      "metadata": {
        "id": "view-in-github",
        "colab_type": "text"
      },
      "source": [
        "<a href=\"https://colab.research.google.com/github/shivamsingh163248/Data_Mining_and_Warehousing_CSBM505_M.Tech_NIT-D/blob/main/LAB%205%20/Experiment_5.ipynb\" target=\"_parent\"><img src=\"https://colab.research.google.com/assets/colab-badge.svg\" alt=\"Open In Colab\"/></a>"
      ]
    },
    {
      "cell_type": "code",
      "execution_count": 2,
      "metadata": {
        "id": "dyJA2Y0Qko3M"
      },
      "outputs": [],
      "source": [
        "#importing the library\n",
        "import pandas as pd\n",
        "import numpy as np"
      ]
    },
    {
      "cell_type": "code",
      "source": [
        "#creating and the generating arrys as a randome\n",
        "arrys  = np.random.rand(6)\n",
        "print(arrys)"
      ],
      "metadata": {
        "colab": {
          "base_uri": "https://localhost:8080/"
        },
        "id": "gEVe3dLBocXX",
        "outputId": "23525b09-ed79-4c7d-b30b-3a372efa97af"
      },
      "execution_count": 3,
      "outputs": [
        {
          "output_type": "stream",
          "name": "stdout",
          "text": [
            "[0.83073053 0.38627776 0.76909706 0.43531056 0.57393572 0.47134836]\n"
          ]
        }
      ]
    },
    {
      "cell_type": "code",
      "source": [
        "# Define the two vectors\n",
        "x2 = pd.Series([1.5, 2, 1.6, 1.2, 1.5])\n",
        "y2 = pd.Series([1.7, 1.9, 1.8, 1.5, 1.0])\n",
        "\n",
        "#now find the distance using the arryas"
      ],
      "metadata": {
        "id": "xrnVbp4Ao8qh"
      },
      "execution_count": 12,
      "outputs": []
    },
    {
      "cell_type": "code",
      "source": [],
      "metadata": {
        "id": "KruAvgiH3Et9"
      },
      "execution_count": null,
      "outputs": []
    },
    {
      "cell_type": "code",
      "source": [
        "# Define the point (x1, y1)\n",
        "x1 = 1.4\n",
        "y1 = 1.6\n",
        "\n"
      ],
      "metadata": {
        "id": "ls52Wh6UPK30"
      },
      "execution_count": 13,
      "outputs": []
    },
    {
      "cell_type": "code",
      "source": [
        "#now find the euclidian distance\n",
        "value  = np.sqrt((x2 - x1 ) ** 2 + (y2 - y1) ** 2)"
      ],
      "metadata": {
        "id": "P-Qs1Y6f3OO5"
      },
      "execution_count": 14,
      "outputs": []
    },
    {
      "cell_type": "code",
      "source": [
        "print(value)"
      ],
      "metadata": {
        "colab": {
          "base_uri": "https://localhost:8080/"
        },
        "id": "iMuGCkMXuotQ",
        "outputId": "7a6d8e07-51e0-4103-8b46-894799658fc1"
      },
      "execution_count": 15,
      "outputs": [
        {
          "output_type": "stream",
          "name": "stdout",
          "text": [
            "0    0.141421\n",
            "1    0.670820\n",
            "2    0.282843\n",
            "3    0.223607\n",
            "4    0.608276\n",
            "dtype: float64\n"
          ]
        }
      ]
    },
    {
      "cell_type": "code",
      "source": [
        "#now find the  manhatten\n",
        "#using the abslute values\n",
        "manhatten = abs(x2 - x1) + abs(y2 - y1)\n",
        "print(manhatten)"
      ],
      "metadata": {
        "colab": {
          "base_uri": "https://localhost:8080/"
        },
        "id": "3Dy4braKvf8d",
        "outputId": "300d7153-be80-4dd4-9f28-8e7b254a5678"
      },
      "execution_count": 19,
      "outputs": [
        {
          "output_type": "stream",
          "name": "stdout",
          "text": [
            "0    0.2\n",
            "1    0.9\n",
            "2    0.4\n",
            "3    0.3\n",
            "4    0.7\n",
            "dtype: float64\n"
          ]
        }
      ]
    },
    {
      "cell_type": "code",
      "source": [
        "#creating the minkoski distace frist the set value of the h\n",
        "h =2\n",
        "#geeting the same ans like a ecludian distance\n",
        "minkoski  = (abs(x2-x1)**h  + abs(y2-y1)**h)**(1/h)\n",
        "print(minkoski)"
      ],
      "metadata": {
        "colab": {
          "base_uri": "https://localhost:8080/"
        },
        "id": "gKuLTx8ZQC9A",
        "outputId": "ea590a7c-ecc2-4091-f269-d871c5ef2027"
      },
      "execution_count": 22,
      "outputs": [
        {
          "output_type": "stream",
          "name": "stdout",
          "text": [
            "0    0.141421\n",
            "1    0.670820\n",
            "2    0.282843\n",
            "3    0.223607\n",
            "4    0.608276\n",
            "dtype: float64\n"
          ]
        }
      ]
    },
    {
      "cell_type": "code",
      "source": [],
      "metadata": {
        "id": "cIrHvheiTeSv"
      },
      "execution_count": null,
      "outputs": []
    }
  ]
}