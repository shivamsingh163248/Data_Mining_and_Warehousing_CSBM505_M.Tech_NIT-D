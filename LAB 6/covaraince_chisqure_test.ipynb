{
  "nbformat": 4,
  "nbformat_minor": 0,
  "metadata": {
    "colab": {
      "provenance": [],
      "authorship_tag": "ABX9TyP0Ogq62jpws2pyOGJjF1hS",
      "include_colab_link": true
    },
    "kernelspec": {
      "name": "python3",
      "display_name": "Python 3"
    },
    "language_info": {
      "name": "python"
    }
  },
  "cells": [
    {
      "cell_type": "markdown",
      "metadata": {
        "id": "view-in-github",
        "colab_type": "text"
      },
      "source": [
        "<a href=\"https://colab.research.google.com/github/shivamsingh163248/Data_Mining_and_Warehousing_CSBM505_M.Tech_NIT-D/blob/main/LAB%206/covaraince_chisqure_test.ipynb\" target=\"_parent\"><img src=\"https://colab.research.google.com/assets/colab-badge.svg\" alt=\"Open In Colab\"/></a>"
      ]
    },
    {
      "cell_type": "code",
      "execution_count": 2,
      "metadata": {
        "id": "9xL0_KG-g-ke"
      },
      "outputs": [],
      "source": [
        "#importing file\n",
        "import numpy as np\n"
      ]
    },
    {
      "cell_type": "code",
      "source": [
        "#creating the random arrys\n",
        "arr = np.random.rand(4)"
      ],
      "metadata": {
        "id": "MkBFwnFQh7I0"
      },
      "execution_count": 4,
      "outputs": []
    },
    {
      "cell_type": "code",
      "source": [
        "print(arr)"
      ],
      "metadata": {
        "colab": {
          "base_uri": "https://localhost:8080/"
        },
        "id": "m79xT2kYi6AZ",
        "outputId": "9d3346ae-9bf8-4333-be22-eb235958173e"
      },
      "execution_count": 5,
      "outputs": [
        {
          "output_type": "stream",
          "name": "stdout",
          "text": [
            "[0.25890344 0.59356697 0.81462024 0.83237981]\n"
          ]
        }
      ]
    },
    {
      "cell_type": "code",
      "source": [
        "#again creating the second arays\n",
        "arr1 = np.random.randint(100 , size=4)\n",
        "print(arr1)"
      ],
      "metadata": {
        "colab": {
          "base_uri": "https://localhost:8080/"
        },
        "id": "ShxrhuNUlkME",
        "outputId": "90b2680f-e99d-4cbc-ec4d-e4455fc3103c"
      },
      "execution_count": 7,
      "outputs": [
        {
          "output_type": "stream",
          "name": "stdout",
          "text": [
            "[92  0 54 52]\n"
          ]
        }
      ]
    },
    {
      "cell_type": "code",
      "source": [
        "#find the covarianc\n",
        "covariance = np.cov(arr1 , arr)\n",
        "print(covariance)"
      ],
      "metadata": {
        "colab": {
          "base_uri": "https://localhost:8080/"
        },
        "id": "5RTSzoDDmd61",
        "outputId": "ef56067f-013c-4c78-a095-be559d4fd6a3"
      },
      "execution_count": 8,
      "outputs": [
        {
          "output_type": "stream",
          "name": "stdout",
          "text": [
            "[[ 1.42766667e+03 -4.21047603e+00]\n",
            " [-4.21047603e+00  7.13256253e-02]]\n"
          ]
        }
      ]
    },
    {
      "cell_type": "code",
      "source": [
        "from scipy.stats import chi2_contingency\n",
        "\n",
        "# defining the table\n",
        "data = [[207, 282, 241], [234, 242, 232]]\n",
        "stat, p, dof, expected = chi2_contingency(data)\n",
        "print(str(p))\n"
      ],
      "metadata": {
        "colab": {
          "base_uri": "https://localhost:8080/"
        },
        "id": "gvmx0PSuo4bH",
        "outputId": "703e1cdd-e97a-4e15-df08-fc246a05918e"
      },
      "execution_count": 14,
      "outputs": [
        {
          "output_type": "stream",
          "name": "stdout",
          "text": [
            "0.1031971404730939\n"
          ]
        }
      ]
    },
    {
      "cell_type": "code",
      "source": [],
      "metadata": {
        "id": "xws_Yg34qf3s"
      },
      "execution_count": null,
      "outputs": []
    }
  ]
}